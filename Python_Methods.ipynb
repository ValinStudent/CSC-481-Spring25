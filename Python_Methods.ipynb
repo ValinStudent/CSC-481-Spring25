{
  "nbformat": 4,
  "nbformat_minor": 0,
  "metadata": {
    "colab": {
      "provenance": [],
      "authorship_tag": "ABX9TyNRSsQGDBiZLOQwWy8Ry6kN",
      "include_colab_link": true
    },
    "kernelspec": {
      "name": "python3",
      "display_name": "Python 3"
    },
    "language_info": {
      "name": "python"
    }
  },
  "cells": [
    {
      "cell_type": "markdown",
      "metadata": {
        "id": "view-in-github",
        "colab_type": "text"
      },
      "source": [
        "<a href=\"https://colab.research.google.com/github/ValinStudent/CSC-481-Spring25/blob/main/Python_Methods.ipynb\" target=\"_parent\"><img src=\"https://colab.research.google.com/assets/colab-badge.svg\" alt=\"Open In Colab\"/></a>"
      ]
    },
    {
      "cell_type": "code",
      "execution_count": 2,
      "metadata": {
        "colab": {
          "base_uri": "https://localhost:8080/"
        },
        "id": "XDD3YtIGyuUt",
        "outputId": "855fc4ef-f916-4c8a-84e7-001fa1acddce"
      },
      "outputs": [
        {
          "output_type": "stream",
          "name": "stdout",
          "text": [
            "Sum:  15\n",
            "Difference:  5\n",
            "Product:  50\n",
            "Division:  2.0\n"
          ]
        }
      ],
      "source": [
        "# Mathmatic Operations\n",
        "a = 10\n",
        "b = 5\n",
        "sum = a + b\n",
        "difference = a - b\n",
        "product = a * b\n",
        "division = a / b\n",
        "\n",
        "print(\"Sum: \", sum)\n",
        "print(\"Difference: \", difference)\n",
        "print(\"Product: \", product)\n",
        "print(\"Division: \", division)"
      ]
    },
    {
      "cell_type": "code",
      "source": [
        "# Print f use\n",
        "print(f\"The sum of the two number {a} and {b} is {sum}\")"
      ],
      "metadata": {
        "colab": {
          "base_uri": "https://localhost:8080/"
        },
        "id": "AAteKUmi0hnF",
        "outputId": "3b80d9ad-aff9-4c86-b65c-e2615d8a7cc8"
      },
      "execution_count": 3,
      "outputs": [
        {
          "output_type": "stream",
          "name": "stdout",
          "text": [
            "The sum of the two number 10 and 5 is 15\n"
          ]
        }
      ]
    },
    {
      "cell_type": "code",
      "source": [
        "# Modulus and floor division\n",
        "\n",
        "x = 13 // 2\n",
        "print(x)\n",
        "\n",
        "y = 13 % 2\n",
        "print(y)"
      ],
      "metadata": {
        "colab": {
          "base_uri": "https://localhost:8080/"
        },
        "id": "lzv9y2d31BPk",
        "outputId": "b7d00a4c-1f88-4344-b2fa-85ecdaa53440"
      },
      "execution_count": 5,
      "outputs": [
        {
          "output_type": "stream",
          "name": "stdout",
          "text": [
            "6\n",
            "1\n"
          ]
        }
      ]
    },
    {
      "cell_type": "code",
      "source": [
        "# Boolean variables and comparisons\n",
        "x = 10\n",
        "y = 5\n",
        "\n",
        "is_greater = x > y\n",
        "is_equal = x == y\n",
        "is_not_equal = x != y\n",
        "\n",
        "print(\"is x greater than y? \", is_greater)\n",
        "print(\"is x equal to y? \", is_equal)\n",
        "print(\"is x not equal to y? \", is_not_equal)\n",
        "\n",
        "\n",
        "# Variable Assignment\n",
        "\n",
        "name = \"Mark\"\n",
        "age = 37\n",
        "is_student = True\n",
        "\n",
        "print(f\"{name} is a {age} year old student, and it is {is_student} he is a student.\")\n",
        "\n"
      ],
      "metadata": {
        "colab": {
          "base_uri": "https://localhost:8080/"
        },
        "id": "73XRPH9S1i6m",
        "outputId": "2cc4eee4-082e-4ef1-9c2c-d8d19aee9b61"
      },
      "execution_count": 2,
      "outputs": [
        {
          "output_type": "stream",
          "name": "stdout",
          "text": [
            "is x greater than y?  True\n",
            "is x equal to y?  False\n",
            "is x not equal to y?  True\n",
            " Mark is a 37 year old, and it is True he is a student.\n"
          ]
        }
      ]
    },
    {
      "cell_type": "code",
      "source": [
        "# Defining and using a function\n",
        "\n",
        "def greet(name):\n",
        "  return \"Hello, \" + name + \"!\"\n",
        "my_name = input(\"Enter your name: \")\n",
        "greet(my_name)\n",
        "\n",
        "def add_numbers(a,b):\n",
        "  return a + b\n",
        "\n",
        "a = eval(input(\"The first number you wuuld like to add: \"))\n",
        "b = eval(input(\"The secnd number you wuuld like to add: \"))\n",
        "\n",
        "addition_value = add_numbers(a,b)\n",
        "\n",
        "print(f\"The two numbers added together of {a} and {b} the result is {addition_value}\")"
      ],
      "metadata": {
        "colab": {
          "base_uri": "https://localhost:8080/"
        },
        "id": "0qFZt63bjSog",
        "outputId": "6e597032-01f9-43ee-a38c-127439260ce7"
      },
      "execution_count": 8,
      "outputs": [
        {
          "output_type": "stream",
          "name": "stdout",
          "text": [
            "Enter your name: 1\n",
            "The first number you wuuld like to add: 1\n",
            "The secnd number you wuuld like to add: 1\n",
            "The two numbers added together of 1 and 1 the result is 2\n"
          ]
        }
      ]
    },
    {
      "cell_type": "code",
      "source": [
        "#Working with Strings\n",
        "\n",
        "message = \"Hello, World\"\n",
        "length = len(message)\n",
        "\n",
        "uppercase = message.upper()\n",
        "lowercase = message.lower()\n",
        "substring = message[7:12]\n",
        "\n",
        "print(\"Original Message: \", message)\n",
        "print(\"Length of Message: \", length)\n",
        "print(\"Uppercase Message: \", uppercase)\n",
        "print(\"Lowercase Message: \", lowercase)\n",
        "print(\"Part of the Message: \", substring)"
      ],
      "metadata": {
        "colab": {
          "base_uri": "https://localhost:8080/"
        },
        "id": "TwHgmek2lDr-",
        "outputId": "1b3c827e-ceaa-4ff6-8cdf-953d6705e10e"
      },
      "execution_count": 9,
      "outputs": [
        {
          "output_type": "stream",
          "name": "stdout",
          "text": [
            "Original Message:  Hello, World\n",
            "Length of Message:  12\n",
            "Uppercase Message:  HELLO, WORLD\n",
            "Lowercase Message:  hello, world\n",
            "Substring of Message:  World\n"
          ]
        }
      ]
    },
    {
      "cell_type": "code",
      "source": [
        "# Input Example\n",
        "\n",
        "last = input(\"Provide the last name\")\n",
        "first = input(\"Provide the first name\")\n",
        "print(f\"{last},{first}\")"
      ],
      "metadata": {
        "colab": {
          "base_uri": "https://localhost:8080/"
        },
        "id": "Xr7RP74VmG3C",
        "outputId": "6aa755a7-5b37-4d2d-f702-773b227cc9e2"
      },
      "execution_count": 12,
      "outputs": [
        {
          "output_type": "stream",
          "name": "stdout",
          "text": [
            "Provide the last nameB\n",
            "Provide the first nameA\n",
            "B,A\n"
          ]
        }
      ]
    },
    {
      "cell_type": "code",
      "source": [
        "# Numeric input example\n",
        "\n",
        "age = int(input(\"input your age: \"))\n",
        "print  (\"You will be\", age + 1 , \"years old next year\")"
      ],
      "metadata": {
        "colab": {
          "base_uri": "https://localhost:8080/"
        },
        "id": "5Tn7r-inmteo",
        "outputId": "d145c9d5-4b4c-4e0d-efb8-58f6451476a0"
      },
      "execution_count": 3,
      "outputs": [
        {
          "output_type": "stream",
          "name": "stdout",
          "text": [
            "input your age1\n",
            "You will be  2  years old next year\n"
          ]
        }
      ]
    },
    {
      "cell_type": "code",
      "source": [
        "# Calculations with input\n",
        "\n",
        "num1 = float(input(\"Enter a number: \"))\n",
        "num2 = float(input(\"Enter a second number: \"))\n",
        "sum_result = num1 + num2\n",
        "print(\"Sum:\", sum_result)"
      ],
      "metadata": {
        "colab": {
          "base_uri": "https://localhost:8080/"
        },
        "id": "WyZmHyxWmbZS",
        "outputId": "c3051e54-1508-4be3-f0c4-218cfd3c4675"
      },
      "execution_count": 7,
      "outputs": [
        {
          "output_type": "stream",
          "name": "stdout",
          "text": [
            "Enter a number: 1\n",
            "Enter a second number: 1\n",
            "Sum: 2.0\n"
          ]
        }
      ]
    },
    {
      "cell_type": "code",
      "source": [
        "# Contatination with input\n",
        "\n",
        "city = input(\"Enter the name of the city you are in: \")\n",
        "state = input(\"Enter the name of the state your city is in: \")\n",
        "location = city +\", \"+ state\n",
        "print(\"You are located in:\", location)"
      ],
      "metadata": {
        "colab": {
          "base_uri": "https://localhost:8080/"
        },
        "id": "AqBDBmeUXoFh",
        "outputId": "a74ad61f-b134-4f86-be27-0d6f5afe6349"
      },
      "execution_count": 5,
      "outputs": [
        {
          "output_type": "stream",
          "name": "stdout",
          "text": [
            "Enter the name of the city you are in: Oxford\n",
            "Enter the name of the state your city is in: Connecticut\n",
            "You are located in: Oxford,Connecticut\n"
          ]
        }
      ]
    },
    {
      "cell_type": "code",
      "source": [
        "# Multple Inputs\n",
        "\n",
        "name, age = input(\"Enter your name and age seperated by a space: \").split()\n",
        "print(\"My name is \" + name + \" and I am \" + age + \" years old.\")"
      ],
      "metadata": {
        "colab": {
          "base_uri": "https://localhost:8080/"
        },
        "id": "84IjmAKZYaYm",
        "outputId": "4a819e38-e1e9-4936-f1fc-0f0fe1d89b85"
      },
      "execution_count": 8,
      "outputs": [
        {
          "output_type": "stream",
          "name": "stdout",
          "text": [
            "Enter your name and age seperated by a space: Mark 37\n",
            "My name isMarkand I am 37years old.\n"
          ]
        }
      ]
    }
  ]
}